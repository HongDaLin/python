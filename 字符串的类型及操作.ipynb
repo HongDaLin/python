{
 "cells": [
  {
   "cell_type": "markdown",
   "metadata": {},
   "source": [
    "#字符串的函数处理"
   ]
  },
  {
   "cell_type": "code",
   "execution_count": 3,
   "metadata": {},
   "outputs": [
    {
     "data": {
      "text/plain": [
       "'abcdefgh'"
      ]
     },
     "execution_count": 3,
     "metadata": {},
     "output_type": "execute_result"
    }
   ],
   "source": [
    "#str.lower()或str.upper():返回字符串的副本，全部字符小写/大写\n",
    "\"AbCdEfGh\".lower()#结果为\"abcdefgh\"\n"
   ]
  },
  {
   "cell_type": "code",
   "execution_count": 4,
   "metadata": {},
   "outputs": [
    {
     "data": {
      "text/plain": [
       "['A', 'B', 'C']"
      ]
     },
     "execution_count": 4,
     "metadata": {},
     "output_type": "execute_result"
    }
   ],
   "source": [
    "#str.split(sep=None) :返回一个列表，由str根据sep被分隔得部分组成\n",
    "\"A,B,C\".split(\",\")#执行结果为['A','B','C']\n"
   ]
  },
  {
   "cell_type": "code",
   "execution_count": 5,
   "metadata": {},
   "outputs": [
    {
     "data": {
      "text/plain": [
       "4"
      ]
     },
     "execution_count": 5,
     "metadata": {},
     "output_type": "execute_result"
    }
   ],
   "source": [
    "#str.count(sub) : 返回子串sub在str中出现的次数\n",
    "\"an apple a day\".count(\"a\")#执行结果为4\n"
   ]
  },
  {
   "cell_type": "code",
   "execution_count": 6,
   "metadata": {},
   "outputs": [
    {
     "data": {
      "text/plain": [
       "'python123.io'"
      ]
     },
     "execution_count": 6,
     "metadata": {},
     "output_type": "execute_result"
    }
   ],
   "source": [
    "#str.replace(old,new) :返回字符串str副本，所有old子串替换成为new\n",
    "\"python\".replace(\"n\",\"n123.io\")#执行结果为'python123.io'\n"
   ]
  },
  {
   "cell_type": "code",
   "execution_count": 7,
   "metadata": {},
   "outputs": [
    {
     "data": {
      "text/plain": [
       "'=======python======='"
      ]
     },
     "execution_count": 7,
     "metadata": {},
     "output_type": "execute_result"
    }
   ],
   "source": [
    "#str.center(width,[fillchar]) :字符串str根据宽度width居中，fillchar可选\n",
    "\"python\".center(20,\"=\")#执行结果为  '=======python======='\n"
   ]
  },
  {
   "cell_type": "code",
   "execution_count": 8,
   "metadata": {},
   "outputs": [
    {
     "data": {
      "text/plain": [
       "'ytho'"
      ]
     },
     "execution_count": 8,
     "metadata": {},
     "output_type": "execute_result"
    }
   ],
   "source": [
    "#str.strip(chars):从str中去掉在其左侧和右侧chars中列出的字符\n",
    "\"= python=\".strip(\" =np\")#执行结果为 'ytho'\n"
   ]
  },
  {
   "cell_type": "code",
   "execution_count": 9,
   "metadata": {},
   "outputs": [
    {
     "data": {
      "text/plain": [
       "'1,2,3,4,5'"
      ]
     },
     "execution_count": 9,
     "metadata": {},
     "output_type": "execute_result"
    }
   ],
   "source": [
    "#str.join(iter)在iter变量除最后元素外的每个元素后增加一个str\",\".join(\"12345\")\n",
    "\",\".join(\"12345\")#执行结果为'1,2,3,4,5'"
   ]
  },
  {
   "cell_type": "markdown",
   "metadata": {},
   "source": [
    "# 字符串的索引和切片\n",
    " -索引：返回字符串中单个字符 \n",
    " -切片：返回字符串中的一段子串 <字符串> [M,N]\n",
    "\n"
   ]
  },
  {
   "cell_type": "code",
   "execution_count": 4,
   "metadata": {},
   "outputs": [
    {
     "data": {
      "text/plain": [
       "'一二三'"
      ]
     },
     "execution_count": 4,
     "metadata": {},
     "output_type": "execute_result"
    }
   ],
   "source": [
    "# 字符串的高级操作\n",
    "# -使用[M:N:K]根据步长对字符串切片\n",
    " #-<字符串>[M;N] ,M缺失表示至开头,N缺失表示至结尾\n",
    "\"一二三四五六七八九十\"[:3]\n",
    "#\"一二三四五六七八九十\"[3:]"
   ]
  },
  {
   "cell_type": "code",
   "execution_count": 6,
   "metadata": {},
   "outputs": [
    {
     "data": {
      "text/plain": [
       "'二四六八'"
      ]
     },
     "execution_count": 6,
     "metadata": {},
     "output_type": "execute_result"
    }
   ],
   "source": [
    "#<字符串>[M:N::k]\n",
    "\"一二三四五六七八九十\"[1:8:2]"
   ]
  },
  {
   "cell_type": "code",
   "execution_count": 8,
   "metadata": {},
   "outputs": [
    {
     "data": {
      "text/plain": [
       "'十九八七六五四三二一'"
      ]
     },
     "execution_count": 8,
     "metadata": {},
     "output_type": "execute_result"
    }
   ],
   "source": [
    "\"一二三四五六七八九十\"[::-1]#逆序"
   ]
  },
  {
   "cell_type": "code",
   "execution_count": 11,
   "metadata": {},
   "outputs": [
    {
     "data": {
      "text/plain": [
       "'这里有个引号(\")'"
      ]
     },
     "execution_count": 11,
     "metadata": {},
     "output_type": "execute_result"
    }
   ],
   "source": [
    "#转移符\\\n",
    "#-转移符表达特定字符的本意\n",
    "\"这里有个引号(\\\")\""
   ]
  },
  {
   "cell_type": "markdown",
   "metadata": {},
   "source": [
    "#转义符形成的一些组合，表达一些不可打印的含义\n",
    "-\"\\b\"回退\n",
    "-\"\\n\"换行(光标移动到下行首)\n",
    "-\"\\r\"回车(光标移动到本行首)"
   ]
  },
  {
   "cell_type": "code",
   "execution_count": 17,
   "metadata": {},
   "outputs": [
    {
     "name": "stdout",
     "output_type": "stream",
     "text": [
      "请输入星期数字（1-7)：1\n",
      "星期一\n"
     ]
    }
   ],
   "source": [
    "#字符串操作符\n",
    "#获取星期字符串\n",
    "#WeekNamePrint\n",
    "WeekStr =\"星期一星期二星期三星期四星期五星期六星期天\"\n",
    "WeekId = eval(input(\"请输入星期数字（1-7)：\"))\n",
    "pos = (WeekId-1)*3  #3表示字符的数量 比如星期一是3个字符\n",
    "print(WeekStr[pos: pos+3])#3表示字符的数量 ,当输入1的时候 [pos: pos+3]+=[0:3],取值为012，对应的字符是星期一"
   ]
  },
  {
   "cell_type": "code",
   "execution_count": 19,
   "metadata": {},
   "outputs": [
    {
     "name": "stdout",
     "output_type": "stream",
     "text": [
      "请输入星期数字(1-7)2\n",
      "星期二\n"
     ]
    }
   ],
   "source": [
    "weekStr = \"一二三四五六七\"\n",
    "weekId = eval(input(\"请输入星期数字(1-7)\"))\n",
    "print(\"星期\"+ weekStr[weekId-1])"
   ]
  },
  {
   "cell_type": "code",
   "execution_count": 22,
   "metadata": {},
   "outputs": [
    {
     "data": {
      "text/plain": [
       "'C:计算机2018-10-10的CPU占用率10%'"
      ]
     },
     "execution_count": 22,
     "metadata": {},
     "output_type": "execute_result"
    }
   ],
   "source": [
    "#字符串类型的格式化\n",
    "\"{1}:计算机{0}的CPU占用率{2}%\".format(\"2018-10-10\",\"C\",10)"
   ]
  },
  {
   "cell_type": "markdown",
   "metadata": {},
   "source": [
    "#format()方法的格式控制\n",
    "> 左对齐\n",
    "> 右对齐\n",
    "^ 居中对齐\n",
    ": 引导符号\n"
   ]
  },
  {
   "cell_type": "code",
   "execution_count": 25,
   "metadata": {},
   "outputs": [
    {
     "data": {
      "text/plain": [
       "'=======PYTHON======='"
      ]
     },
     "execution_count": 25,
     "metadata": {},
     "output_type": "execute_result"
    }
   ],
   "source": [
    "\"{0:=^20}\".format(\"PYTHON\")"
   ]
  },
  {
   "cell_type": "code",
   "execution_count": 26,
   "metadata": {},
   "outputs": [
    {
     "data": {
      "text/plain": [
       "'*****************BIL'"
      ]
     },
     "execution_count": 26,
     "metadata": {},
     "output_type": "execute_result"
    }
   ],
   "source": [
    "\"{0:*>20}\".format(\"BIL\")"
   ]
  }
 ],
 "metadata": {
  "kernelspec": {
   "display_name": "Python 3",
   "language": "python",
   "name": "python3"
  },
  "language_info": {
   "codemirror_mode": {
    "name": "ipython",
    "version": 3
   },
   "file_extension": ".py",
   "mimetype": "text/x-python",
   "name": "python",
   "nbconvert_exporter": "python",
   "pygments_lexer": "ipython3",
   "version": "3.7.0"
  }
 },
 "nbformat": 4,
 "nbformat_minor": 2
}
