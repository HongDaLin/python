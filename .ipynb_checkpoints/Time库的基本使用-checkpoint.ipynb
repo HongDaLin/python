{
 "cells": [
  {
   "cell_type": "markdown",
   "metadata": {},
   "source": [
    " # time库包括三个函数    \n",
    " -时间获取：time() ctime() gmtime()\n",
    " -时间格式化: strftime() strptime()\n",
    " -程序计时:sleep(),perf_counter()"
   ]
  },
  {
   "cell_type": "code",
   "execution_count": 3,
   "metadata": {},
   "outputs": [
    {
     "data": {
      "text/plain": [
       "1541941822.3137815"
      ]
     },
     "execution_count": 3,
     "metadata": {},
     "output_type": "execute_result"
    }
   ],
   "source": [
    "#时间获取\n",
    "import time\n",
    "time.time()"
   ]
  },
  {
   "cell_type": "code",
   "execution_count": 46,
   "metadata": {},
   "outputs": [
    {
     "data": {
      "text/plain": [
       "'Sun Nov 11 22:06:50 2018'"
      ]
     },
     "execution_count": 46,
     "metadata": {},
     "output_type": "execute_result"
    }
   ],
   "source": [
    "time.ctime()"
   ]
  },
  {
   "cell_type": "code",
   "execution_count": 31,
   "metadata": {},
   "outputs": [
    {
     "data": {
      "text/plain": [
       "time.struct_time(tm_year=2018, tm_mon=11, tm_mday=11, tm_hour=13, tm_min=27, tm_sec=30, tm_wday=6, tm_yday=315, tm_isdst=0)"
      ]
     },
     "execution_count": 31,
     "metadata": {},
     "output_type": "execute_result"
    }
   ],
   "source": [
    "#gmtime()获取当前时间，表示为计算机可处理的时间格式\n",
    "time.gmtime()"
   ]
  },
  {
   "cell_type": "code",
   "execution_count": 53,
   "metadata": {},
   "outputs": [
    {
     "data": {
      "text/plain": [
       "'2018-11-11 14:08:38'"
      ]
     },
     "execution_count": 53,
     "metadata": {},
     "output_type": "execute_result"
    }
   ],
   "source": [
    "#时间格式化\n",
    "#strftime(ttpl,ts) tpl是格式化模板字符串，用来定义输出的效果，ts是计算机内部时间的变量\n",
    "import time\n",
    "t=time.gmtime()\n",
    "time.strftime(\"%Y-%m-%d %H:%M:%S\",t)"
   ]
  },
  {
   "cell_type": "code",
   "execution_count": 57,
   "metadata": {},
   "outputs": [
    {
     "data": {
      "text/plain": [
       "'import time\\nt=\"2018-11-11 14:09:58\"\\ntime.strptime(t,\"Y-%m-%d %H:%M:%S\")'"
      ]
     },
     "execution_count": 57,
     "metadata": {},
     "output_type": "execute_result"
    }
   ],
   "source": [
    "#strptime(str,tpl) str是字符串形式的时间值，tpl是格式化的模板字符，用于定义输出效果\n",
    "'''import time\n",
    "t=\"2018-11-11 14:09:58\"\n",
    "time.strptime(t,\"Y-%m-%d %H:%M:%S\")'''"
   ]
  },
  {
   "cell_type": "markdown",
   "metadata": {},
   "source": [
    "#程序计时\n",
    "-程序计时指测量起止动作所经历时间的过程\n",
    "-测量时间：perf_count()\n",
    "-产生时间: sleep() \n"
   ]
  },
  {
   "cell_type": "code",
   "execution_count": 12,
   "metadata": {},
   "outputs": [
    {
     "data": {
      "text/plain": [
       "2.5263999987146235e-05"
      ]
     },
     "execution_count": 12,
     "metadata": {},
     "output_type": "execute_result"
    }
   ],
   "source": [
    "#perf_counter() 返回一个cpu级别的精确时间计数值，单位为秒，由于这个计数值的起点不确定，连续调用差值才有意义\n",
    "import time\n",
    "start=time.perf_counter() #开始计时\n",
    "end = time.perf_counter() #结束计时\n",
    "end-start # 程序执行所需要的时间\n"
   ]
  },
  {
   "cell_type": "code",
   "execution_count": 24,
   "metadata": {},
   "outputs": [],
   "source": [
    "#sleep(s) s拟休眠的时间，单位是秒，可以是浮点数\n",
    "import time\n",
    "def wait():\n",
    "    time.sleep(3.3)\n"
   ]
  },
  {
   "cell_type": "code",
   "execution_count": 33,
   "metadata": {},
   "outputs": [
    {
     "name": "stdout",
     "output_type": "stream",
     "text": [
      "1\n"
     ]
    }
   ],
   "source": [
    "wait()#程序将等待3.3秒后在退出\n",
    "print('1')\n"
   ]
  },
  {
   "cell_type": "code",
   "execution_count": 1,
   "metadata": {},
   "outputs": [
    {
     "name": "stdout",
     "output_type": "stream",
     "text": [
      ".....执行开始.....\n",
      " 0 %[->..........]\n",
      "10 %[*->.........]\n",
      "20 %[**->........]\n",
      "30 %[***->.......]\n",
      "40 %[****->......]\n",
      "50 %[*****->.....]\n",
      "60 %[******->....]\n",
      "70 %[*******->...]\n",
      "80 %[********->..]\n",
      "90 %[*********->.]\n",
      "100%[**********->]\n",
      ".....执行结束.....\n"
     ]
    }
   ],
   "source": [
    "# 文本进度条\n",
    "#TextProBarV1.py\n",
    "import time\n",
    "scale = 10\n",
    "print(\".....执行开始.....\")\n",
    "for i in range(scale+1):\n",
    "    a= \"*\"* i\n",
    "    b=\".\"* (scale-i)\n",
    "    c=(i/scale)*100\n",
    "    print(\"{:^3.0f}%[{}->{}]\".format(c,a,b))\n",
    "    time.sleep(.02)\n",
    "print(\".....执行结束.....\")"
   ]
  },
  {
   "cell_type": "code",
   "execution_count": 2,
   "metadata": {},
   "outputs": [
    {
     "name": "stdout",
     "output_type": "stream",
     "text": [
      "100%"
     ]
    }
   ],
   "source": [
    "#单行动态刷新\n",
    "#刷新的本质是：用后打印的字符覆盖之前的字符\n",
    "import time\n",
    "for i in range(101):\n",
    "    print(\"\\r{:3}%\".format(i),end=\"\")#\\r 使光标退回行首 ，end =\"\"让程序不换行\n",
    "    time.sleep(0.1)"
   ]
  },
  {
   "cell_type": "code",
   "execution_count": 13,
   "metadata": {},
   "outputs": [
    {
     "name": "stdout",
     "output_type": "stream",
     "text": [
      "-----------执行开始----------\n",
      "100%[**************************************************->]10.02s\n",
      "-----------执行结束----------\n"
     ]
    }
   ],
   "source": [
    "#完整效果文本进度条\n",
    "import time\n",
    "scale = 50\n",
    "print(\"执行开始\".center(scale//2,\"-\")) #.center 让\"-\"居中对齐\n",
    "start = time.perf_counter()\n",
    "for i in range(scale+1):\n",
    "    a= \"*\"* i\n",
    "    b=\".\"* (scale-i)\n",
    "    c=(i/scale)*100\n",
    "    dur=time.perf_counter() - start #程序计时\n",
    "    print(\"\\r{:^3.0f}%[{}->{}]{:.2f}s\".format(c,a,b,dur),end=\"\")\n",
    "    time.sleep(0.2)\n",
    "print(\"\\n\"+\"执行结束\".center(scale//2,\"-\"))\n"
   ]
  }
 ],
 "metadata": {
  "kernelspec": {
   "display_name": "Python 3",
   "language": "python",
   "name": "python3"
  },
  "language_info": {
   "codemirror_mode": {
    "name": "ipython",
    "version": 3
   },
   "file_extension": ".py",
   "mimetype": "text/x-python",
   "name": "python",
   "nbconvert_exporter": "python",
   "pygments_lexer": "ipython3",
   "version": "3.7.0"
  }
 },
 "nbformat": 4,
 "nbformat_minor": 2
}
