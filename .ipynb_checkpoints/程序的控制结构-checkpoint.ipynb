{
 "cells": [
  {
   "cell_type": "markdown",
   "metadata": {},
   "source": [
    "#程序的分支结构\n",
    "#程序的循环结构\n",
    "#程序的顺序结构\n"
   ]
  },
  {
   "cell_type": "code",
   "execution_count": 5,
   "metadata": {},
   "outputs": [
    {
     "name": "stdout",
     "output_type": "stream",
     "text": [
      "99\n",
      "猜对了\n"
     ]
    }
   ],
   "source": [
    "#单分支结构\n",
    "guess = eval(input())\n",
    "if guess== 99:\n",
    "    print(\"猜对了\")"
   ]
  },
  {
   "cell_type": "code",
   "execution_count": 7,
   "metadata": {},
   "outputs": [
    {
     "name": "stdout",
     "output_type": "stream",
     "text": [
      "50\n",
      "猜错了\n"
     ]
    }
   ],
   "source": [
    "#二分支结构\n",
    "guess = eval(input())\n",
    "if guess== 99:\n",
    "    print(\"猜对了\")\n",
    "else:\n",
    "    print(\"猜错了\")\n"
   ]
  },
  {
   "cell_type": "code",
   "execution_count": 15,
   "metadata": {},
   "outputs": [
    {
     "name": "stdout",
     "output_type": "stream",
     "text": [
      "99\n",
      "猜对了\n"
     ]
    }
   ],
   "source": [
    "guess = eval(input())\n",
    "print(\"猜{}了\".format(\"对\" if guess==99 else \"错\"))"
   ]
  },
  {
   "cell_type": "code",
   "execution_count": 2,
   "metadata": {},
   "outputs": [
    {
     "name": "stdout",
     "output_type": "stream",
     "text": [
      "60\n",
      "D\n"
     ]
    }
   ],
   "source": [
    "score= eval(input())\n",
    "if score >=60 and score<70 :\n",
    "    grade=\"D\"\n",
    "elif score >= 70 and score <80:\n",
    "    grade=\"C\"\n",
    "elif score >= 80 and score <90:\n",
    "    grade=\"B\"\n",
    "elif score>=90 :\n",
    "    grade =\"A\"\n",
    "elif score<60:\n",
    "    grade=\"不及格\"\n",
    "print(\"{}\".format(grade))"
   ]
  },
  {
   "cell_type": "code",
   "execution_count": 7,
   "metadata": {},
   "outputs": [
    {
     "name": "stdout",
     "output_type": "stream",
     "text": [
      "200\n",
      "猜对了\n"
     ]
    }
   ],
   "source": [
    "#条件判断组合：and or not\n",
    "guess= eval(input())\n",
    "if guess >99 or guess<99: #or是或，即条件只会为Ture只会输出if语句块下的内容，不会输出else的内容\n",
    "    print(\"猜对了\")\n",
    "else:\n",
    "    print(\"猜错了\")"
   ]
  },
  {
   "cell_type": "code",
   "execution_count": 13,
   "metadata": {},
   "outputs": [
    {
     "name": "stdout",
     "output_type": "stream",
     "text": [
      "50\n",
      "猜错了\n"
     ]
    }
   ],
   "source": [
    "#条件判断组合：and or not\n",
    "guess= eval(input())\n",
    "if guess >99 and guess<99: #and 是与 ，只有两条件都为真的时候才会执行if语句的内容，即只会输出else的内容\n",
    "    print(\"猜对了\")\n",
    "else:\n",
    "    print(\"猜错了\")"
   ]
  },
  {
   "cell_type": "code",
   "execution_count": 16,
   "metadata": {},
   "outputs": [
    {
     "name": "stdout",
     "output_type": "stream",
     "text": [
      "请输入一个整数：56\n",
      "3136\n"
     ]
    }
   ],
   "source": [
    "#程序的异常处理\n",
    "#示例1：\n",
    "try:\n",
    "    num= eval(input(\"请输入一个整数：\"))\n",
    "    print(num**2)\n",
    "except:\n",
    "    print(\"输入的不是整数\")"
   ]
  },
  {
   "cell_type": "code",
   "execution_count": 18,
   "metadata": {},
   "outputs": [
    {
     "name": "stdout",
     "output_type": "stream",
     "text": [
      "请输入一个整数：adg\n",
      "输入的不是整数\n"
     ]
    }
   ],
   "source": [
    "#示例二\n",
    "try:\n",
    "    num= eval(input(\"请输入一个整数：\"))\n",
    "    print(num**2)\n",
    "except NameError:#标注异常类型后，仅响应该异常，异常类型名字等同于变量\n",
    "    print(\"输入的不是整数\")"
   ]
  },
  {
   "cell_type": "markdown",
   "metadata": {},
   "source": [
    "#异常处理的高级使用\n",
    "try:\n",
    "    <语句块1>\n",
    "except:\n",
    "    <语句块2>\n",
    "else:                                          -else对应的语句块3在不发生异常的时候执行\n",
    "    <语句块3>\n",
    "finally:                                       -finally对应的语句块4一定执行\n",
    "    <语句块4>     \n"
   ]
  },
  {
   "cell_type": "code",
   "execution_count": null,
   "metadata": {},
   "outputs": [],
   "source": []
  }
 ],
 "metadata": {
  "kernelspec": {
   "display_name": "Python 3",
   "language": "python",
   "name": "python3"
  },
  "language_info": {
   "codemirror_mode": {
    "name": "ipython",
    "version": 3
   },
   "file_extension": ".py",
   "mimetype": "text/x-python",
   "name": "python",
   "nbconvert_exporter": "python",
   "pygments_lexer": "ipython3",
   "version": "3.7.0"
  }
 },
 "nbformat": 4,
 "nbformat_minor": 2
}
