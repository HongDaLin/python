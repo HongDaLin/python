{
 "cells": [
  {
   "cell_type": "markdown",
   "metadata": {},
   "source": [
    "-遍历循环\n",
    "-无限循环\n",
    "-循环控制的保留字\n",
    "-循环的高级用法"
   ]
  },
  {
   "cell_type": "markdown",
   "metadata": {},
   "source": [
    "#遍历循环：遍历某个结构形成的循环方式\n",
    "for <循环变量> in <遍历结构>:\n",
    "    <语句块>"
   ]
  },
  {
   "cell_type": "code",
   "execution_count": 5,
   "metadata": {},
   "outputs": [
    {
     "name": "stdout",
     "output_type": "stream",
     "text": [
      "0\n",
      "1\n",
      "2\n",
      "3\n",
      "4\n"
     ]
    }
   ],
   "source": [
    "#遍历循环的应用\n",
    "#计数循环\n",
    "for i in range(5):\n",
    "    print(i)"
   ]
  },
  {
   "cell_type": "code",
   "execution_count": 8,
   "metadata": {},
   "outputs": [
    {
     "name": "stdout",
     "output_type": "stream",
     "text": [
      "1\n",
      "2\n",
      "3\n",
      "4\n",
      "5\n"
     ]
    }
   ],
   "source": [
    "#range()函数的扩展\n",
    "for i in range(1,6):\n",
    "    print(i)"
   ]
  },
  {
   "cell_type": "code",
   "execution_count": 10,
   "metadata": {},
   "outputs": [
    {
     "name": "stdout",
     "output_type": "stream",
     "text": [
      "1\n",
      "3\n",
      "5\n"
     ]
    }
   ],
   "source": [
    "for i in range(1,6,2):   #1-6 以2为步长取值\n",
    "    print(i)"
   ]
  },
  {
   "cell_type": "code",
   "execution_count": 13,
   "metadata": {},
   "outputs": [
    {
     "name": "stdout",
     "output_type": "stream",
     "text": [
      "P,y,t,h,o,n,"
     ]
    }
   ],
   "source": [
    "#字符串的遍历循环\n",
    "for i in \"Python\":\n",
    "    print(i,end=\",\")"
   ]
  },
  {
   "cell_type": "code",
   "execution_count": 17,
   "metadata": {},
   "outputs": [
    {
     "name": "stdout",
     "output_type": "stream",
     "text": [
      "123,py,456,"
     ]
    }
   ],
   "source": [
    "#列表遍历循环\n",
    "for item in [123,\"py\",456]:\n",
    "    print(item,end=\",\")\n",
    "    "
   ]
  },
  {
   "cell_type": "code",
   "execution_count": 19,
   "metadata": {},
   "outputs": [],
   "source": [
    "#文件遍历循环\n",
    "#for line in fi:   # fi 表示文件的标识符，遍历其每一行，产生循环\n",
    "    #print(line)"
   ]
  },
  {
   "cell_type": "code",
   "execution_count": 20,
   "metadata": {},
   "outputs": [
    {
     "name": "stdout",
     "output_type": "stream",
     "text": [
      "2\n",
      "1\n",
      "0\n"
     ]
    }
   ],
   "source": [
    "#无限循环：由条件控制的循环运方式\n",
    "a=3\n",
    "while a >0:\n",
    "    a=a-1\n",
    "    print(a)"
   ]
  },
  {
   "cell_type": "code",
   "execution_count": null,
   "metadata": {},
   "outputs": [],
   "source": [
    "a=3   #此循环是无限循环\n",
    "while a>0:\n",
    "    a=a+1\n",
    "    print(a)"
   ]
  },
  {
   "cell_type": "markdown",
   "metadata": {},
   "source": [
    "#循环控制保留字\n",
    "break, continue\n",
    "-break跳出并结束当前整个循环，执行循环后的语句\n",
    "-continue结束当次循环，继续执行侯勋次数循环\n",
    "break和continue 都可以和while for 循环搭配使用\n"
   ]
  },
  {
   "cell_type": "code",
   "execution_count": 5,
   "metadata": {},
   "outputs": [
    {
     "name": "stdout",
     "output_type": "stream",
     "text": [
      "pyhon"
     ]
    }
   ],
   "source": [
    "#continue\n",
    "for c in \"python\":\n",
    "    if c == \"t\":\n",
    "        continue\n",
    "    print(c,end=\"\")"
   ]
  },
  {
   "cell_type": "code",
   "execution_count": 7,
   "metadata": {},
   "outputs": [
    {
     "name": "stdout",
     "output_type": "stream",
     "text": [
      "py"
     ]
    }
   ],
   "source": [
    "#break\n",
    "for c in \"python\":\n",
    "    if c == \"t\":\n",
    "        break\n",
    "    print(c,end=\"\")"
   ]
  },
  {
   "cell_type": "code",
   "execution_count": 1,
   "metadata": {},
   "outputs": [],
   "source": [
    "#break 在双层循环的情况下\n",
    "s=\"python\"\n",
    "while s != \"\":\n",
    "    for c in s:\n",
    "        print(c,end=\"\")\n",
    "    s=s[:-1]"
   ]
  },
  {
   "cell_type": "code",
   "execution_count": 4,
   "metadata": {},
   "outputs": [
    {
     "name": "stdout",
     "output_type": "stream",
     "text": [
      "pypypypypyp"
     ]
    }
   ],
   "source": [
    "s=\"python\"\n",
    "while s != \"\":\n",
    "    for c in s:\n",
    "        if c ==\"t\":\n",
    "            break #break 只能跳出当前的最内层循环，因为是双层循环，所以还要执行while 循环\n",
    "        print(c,end=\"\")\n",
    "    s=s[:-1]#切片 ，取最后一个字符"
   ]
  },
  {
   "cell_type": "code",
   "execution_count": 5,
   "metadata": {},
   "outputs": [
    {
     "name": "stdout",
     "output_type": "stream",
     "text": [
      "pyhon正常退出\n"
     ]
    }
   ],
   "source": [
    "#循环的高级用法\n",
    "for c in \"python\":\n",
    "    if c == \"t\":\n",
    "        continue\n",
    "    print(c,end=\"\")\n",
    "else:\n",
    "    print(\"正常退出\")"
   ]
  },
  {
   "cell_type": "code",
   "execution_count": 6,
   "metadata": {},
   "outputs": [
    {
     "name": "stdout",
     "output_type": "stream",
     "text": [
      "py"
     ]
    }
   ],
   "source": [
    "for c in \"python\":\n",
    "    if c == \"t\":\n",
    "        break   \n",
    "    print(c,end=\"\")\n",
    "else:\n",
    "    print(\"正常退出\")"
   ]
  }
 ],
 "metadata": {
  "kernelspec": {
   "display_name": "Python 3",
   "language": "python",
   "name": "python3"
  },
  "language_info": {
   "codemirror_mode": {
    "name": "ipython",
    "version": 3
   },
   "file_extension": ".py",
   "mimetype": "text/x-python",
   "name": "python",
   "nbconvert_exporter": "python",
   "pygments_lexer": "ipython3",
   "version": "3.7.0"
  }
 },
 "nbformat": 4,
 "nbformat_minor": 2
}
