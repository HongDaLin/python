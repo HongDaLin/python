{
 "cells": [
  {
   "cell_type": "code",
   "execution_count": 13,
   "metadata": {},
   "outputs": [
    {
     "name": "stdout",
     "output_type": "stream",
     "text": [
      "圆周率的值是:3.141592653589793\n"
     ]
    }
   ],
   "source": [
    "#圆周率计算实例\n",
    "pi=0\n",
    "N=100\n",
    "for k in range(N):\n",
    "    pi +=1/pow(16,k)*(\\\n",
    "        4/(8*k+1)-2/(8*k+4)-\\\n",
    "        1/(8*k+5)-1/(8*k+6))\n",
    "print(\"圆周率的值是:{}\".format(pi))\n",
    "    "
   ]
  },
  {
   "cell_type": "code",
   "execution_count": 14,
   "metadata": {},
   "outputs": [
    {
     "name": "stdout",
     "output_type": "stream",
     "text": [
      "圆周率值是:3.139952\n",
      "运行的时间是:0.97451s\n"
     ]
    }
   ],
   "source": [
    "#蒙特卡罗方法计算圆周率\n",
    "from random import random\n",
    "from time import perf_counter\n",
    "DARTS = 1000*1000 #指的是在区域中抛撒点的数量\n",
    "hits=0.0 #指的圆的内部点的数量\n",
    "start = perf_counter()\n",
    "for  i in range(1,DARTS+1):\n",
    "    x,y= random(),random()\n",
    "    dist = pow(x**2+y**2,0.5)\n",
    "    if dist <=1.0:  #表示点在圆内\n",
    "        hits=hits+1\n",
    "pi=4* (hits/DARTS)\n",
    "print(\"圆周率值是:{}\".format(pi))\n",
    "print(\"运行的时间是:{:.5f}s\".format(perf_counter()-start))\n"
   ]
  },
  {
   "cell_type": "code",
   "execution_count": null,
   "metadata": {},
   "outputs": [],
   "source": []
  }
 ],
 "metadata": {
  "kernelspec": {
   "display_name": "Python 3",
   "language": "python",
   "name": "python3"
  },
  "language_info": {
   "codemirror_mode": {
    "name": "ipython",
    "version": 3
   },
   "file_extension": ".py",
   "mimetype": "text/x-python",
   "name": "python",
   "nbconvert_exporter": "python",
   "pygments_lexer": "ipython3",
   "version": "3.7.0"
  }
 },
 "nbformat": 4,
 "nbformat_minor": 2
}
