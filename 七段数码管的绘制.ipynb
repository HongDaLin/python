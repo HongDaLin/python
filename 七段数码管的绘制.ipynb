{
 "cells": [
  {
   "cell_type": "code",
   "execution_count": 1,
   "metadata": {},
   "outputs": [],
   "source": [
    "#七段数码管的绘制实例\n",
    "import turtle as t\n",
    "def drawLine(draw):  #绘制单断数码管\n",
    "    t.pendown() if draw else t.penup()\n",
    "    t.fd(40)\n",
    "    t.right(90)\n",
    "def drawDigit(digit):\n",
    "    drawLine(True) if digit in [2,3,4,5,6,8,9] else drawLine(False)\n",
    "    drawLine(True) if digit in [0,1,3,4,5,6,7,8,9] else drawLine(False)\n",
    "    drawLine(True) if digit in [0,2,3,5,6,8,9] else drawLine(False)\n",
    "    drawLine(True) if digit  in [0,2,6,8] else drawLine(False)\n",
    "    t.left(90)\n",
    "    drawLine(True) if digit in [0,4,5,6,8,9] else drawLine(False)\n",
    "    drawLine(True) if digit in [0,2,3,5,6,7,8,9] else drawLine(False)\n",
    "    drawLine(True) if digit in [0,1,2,3,4,7,8,9] else drawLine(False)\n",
    "    t.left(180)\n",
    "    t.penup()\n",
    "    t.fd(20)\n",
    "def drawDate(date):\n",
    "    for i in date:\n",
    "        drawDigit(eval(i))\n",
    "def main():\n",
    "    t.setup(800,350,200,200)\n",
    "    t.penup()\n",
    "    t.fd(-300)\n",
    "    t.pensize(5)\n",
    "    drawDate('20181123')\n",
    "    t.hideturtle()\n",
    "    t.done()\n",
    "main()"
   ]
  },
  {
   "cell_type": "code",
   "execution_count": null,
   "metadata": {},
   "outputs": [],
   "source": []
  }
 ],
 "metadata": {
  "kernelspec": {
   "display_name": "Python 3",
   "language": "python",
   "name": "python3"
  },
  "language_info": {
   "codemirror_mode": {
    "name": "ipython",
    "version": 3
   },
   "file_extension": ".py",
   "mimetype": "text/x-python",
   "name": "python",
   "nbconvert_exporter": "python",
   "pygments_lexer": "ipython3",
   "version": "3.7.0"
  }
 },
 "nbformat": 4,
 "nbformat_minor": 2
}
