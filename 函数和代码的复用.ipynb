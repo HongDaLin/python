{
 "cells": [
  {
   "cell_type": "markdown",
   "metadata": {},
   "source": [
    "# 函数的定义与使用"
   ]
  },
  {
   "cell_type": "markdown",
   "metadata": {},
   "source": [
    "#函数的理解和定义\n",
    "def <函数名>():\n",
    "    <函数体>\n",
    "    return <返回值>\n",
    "y=f(x)\n",
    "- 函数定义时，所指的参数是一种占位符\n",
    "- 函数定义后，如果不经过调用函数将不会被执行\n",
    "- 函数定义时，参数是输入，函数体是处理，结果是输出（IPO）"
   ]
  },
  {
   "cell_type": "code",
   "execution_count": 2,
   "metadata": {},
   "outputs": [],
   "source": [
    "#函数的使用及调用过程\n",
    "#调用是运行函数代码的方式\n",
    "#n!\n",
    "def fact(n):\n",
    "    s=1\n",
    "    for i in range(1,n+1):\n",
    "        s*=i\n",
    "    return s"
   ]
  },
  {
   "cell_type": "code",
   "execution_count": 5,
   "metadata": {},
   "outputs": [
    {
     "name": "stdout",
     "output_type": "stream",
     "text": [
      "3628800\n"
     ]
    }
   ],
   "source": [
    "a=fact(10)\n",
    "print(a)"
   ]
  },
  {
   "cell_type": "markdown",
   "metadata": {},
   "source": [
    "#函数的参数传递\n",
    "#函数可以有参数也可以没有参数，但必须保留括号\n",
    "- def <函数名>():\n",
    "    <函数体>\n",
    "    return <返回值>\n",
    "#可选参数传递\n",
    "- 函数定义时可以为某些参数制定默认值，构成可选参数\n",
    "   def <函数名>(<非可选参数>,<可选参数>):    #可选参数必须要放在非可选参数之后\n",
    "    <函数体>\n",
    "    return <返回值>\n"
   ]
  },
  {
   "cell_type": "code",
   "execution_count": 6,
   "metadata": {},
   "outputs": [],
   "source": [
    "#n!//m    n的阶乘的整除\n",
    "def fact(n,m=1):\n",
    "    s=1\n",
    "    for i in range(1,n+1):\n",
    "        s*=i\n",
    "    return s//m"
   ]
  },
  {
   "cell_type": "code",
   "execution_count": 8,
   "metadata": {},
   "outputs": [
    {
     "data": {
      "text/plain": [
       "3628800"
      ]
     },
     "execution_count": 8,
     "metadata": {},
     "output_type": "execute_result"
    }
   ],
   "source": [
    "fact(10)  #默认可选参数为1"
   ]
  },
  {
   "cell_type": "code",
   "execution_count": 10,
   "metadata": {},
   "outputs": [
    {
     "data": {
      "text/plain": [
       "725760"
      ]
     },
     "execution_count": 10,
     "metadata": {},
     "output_type": "execute_result"
    }
   ],
   "source": [
    "fact(10,5)#可选参数为5"
   ]
  },
  {
   "cell_type": "markdown",
   "metadata": {},
   "source": [
    "# 可变参数传递\n",
    "#函数定义时可以设计可变量参数，即不确定参数总数量\n",
    "- def <函数名>(<参数>,*b):\n",
    "    <函数体>\n",
    "    return <返回值>"
   ]
  },
  {
   "cell_type": "code",
   "execution_count": 11,
   "metadata": {},
   "outputs": [],
   "source": [
    "def fact(n,*b):\n",
    "    s=1\n",
    "    for i in range(1,n+1):\n",
    "        s*=i\n",
    "    for item in b :\n",
    "        s*=item\n",
    "    return s"
   ]
  },
  {
   "cell_type": "code",
   "execution_count": 13,
   "metadata": {},
   "outputs": [
    {
     "data": {
      "text/plain": [
       "3628800"
      ]
     },
     "execution_count": 13,
     "metadata": {},
     "output_type": "execute_result"
    }
   ],
   "source": [
    "fact(10,1)"
   ]
  },
  {
   "cell_type": "code",
   "execution_count": 15,
   "metadata": {},
   "outputs": [
    {
     "data": {
      "text/plain": [
       "18144000"
      ]
     },
     "execution_count": 15,
     "metadata": {},
     "output_type": "execute_result"
    }
   ],
   "source": [
    "fact(10,5)"
   ]
  },
  {
   "cell_type": "code",
   "execution_count": 17,
   "metadata": {},
   "outputs": [
    {
     "data": {
      "text/plain": [
       "63141120.0"
      ]
     },
     "execution_count": 17,
     "metadata": {},
     "output_type": "execute_result"
    }
   ],
   "source": [
    "fact(10,3,5.8)"
   ]
  },
  {
   "cell_type": "code",
   "execution_count": 18,
   "metadata": {},
   "outputs": [],
   "source": [
    "#参数传递的两种方式\n",
    "#函数调用时，参数可以按照位置或名称方式传递\n",
    "def fact(n,m=1):\n",
    "    s=1\n",
    "    for i in range(1,n+1):\n",
    "        s*=i\n",
    "    return s//m"
   ]
  },
  {
   "cell_type": "code",
   "execution_count": 20,
   "metadata": {},
   "outputs": [
    {
     "data": {
      "text/plain": [
       "725760"
      ]
     },
     "execution_count": 20,
     "metadata": {},
     "output_type": "execute_result"
    }
   ],
   "source": [
    "fact(10,5) #按照位置来调用"
   ]
  },
  {
   "cell_type": "code",
   "execution_count": 21,
   "metadata": {},
   "outputs": [
    {
     "data": {
      "text/plain": [
       "725760"
      ]
     },
     "execution_count": 21,
     "metadata": {},
     "output_type": "execute_result"
    }
   ],
   "source": [
    "fact(m=5,n=10)#按照名称来调用"
   ]
  },
  {
   "cell_type": "code",
   "execution_count": 24,
   "metadata": {},
   "outputs": [],
   "source": [
    "# 函数的返回值\n",
    "#函数可以返回0或多个结果\n",
    "#return 也可以返回0或多个结果\n",
    "def fact(n,m=1):\n",
    "    s=1\n",
    "    for i in range(1,n+1):\n",
    "        s*=i\n",
    "    return s//m,n,m"
   ]
  },
  {
   "cell_type": "code",
   "execution_count": 25,
   "metadata": {},
   "outputs": [
    {
     "data": {
      "text/plain": [
       "(725760, 10, 5)"
      ]
     },
     "execution_count": 25,
     "metadata": {},
     "output_type": "execute_result"
    }
   ],
   "source": [
    "fact(10,5)"
   ]
  },
  {
   "cell_type": "code",
   "execution_count": 28,
   "metadata": {},
   "outputs": [
    {
     "name": "stdout",
     "output_type": "stream",
     "text": [
      "725760 10 5\n"
     ]
    }
   ],
   "source": [
    "a,b,c=fact(10,5)\n",
    "print(a,b,c)"
   ]
  },
  {
   "cell_type": "markdown",
   "metadata": {},
   "source": [
    "# lambda 函数 \n",
    "- lambda函数返回函数名作为结果\n",
    "- lambda函数是一种匿名函数，即没有名字的函数\n",
    "- 使用lambda保留字来定义，函数名是返回结果\n",
    "- lambda函数用于定义简单的，能够在一行内表示的函数\n",
    "# 谨慎使用lambda函数\n",
    "- lambda函数主要作一些特定函数或方法的参数\n",
    "- lambda函数有一些固定的使用形式\n",
    "- 一般情况下用def定义的普通函数\n"
   ]
  },
  {
   "cell_type": "code",
   "execution_count": 30,
   "metadata": {},
   "outputs": [],
   "source": [
    "f = lambda x,y : x+y"
   ]
  },
  {
   "cell_type": "code",
   "execution_count": 32,
   "metadata": {},
   "outputs": [
    {
     "data": {
      "text/plain": [
       "25"
      ]
     },
     "execution_count": 32,
     "metadata": {},
     "output_type": "execute_result"
    }
   ],
   "source": [
    "f(10,15)"
   ]
  }
 ],
 "metadata": {
  "kernelspec": {
   "display_name": "Python 3",
   "language": "python",
   "name": "python3"
  },
  "language_info": {
   "codemirror_mode": {
    "name": "ipython",
    "version": 3
   },
   "file_extension": ".py",
   "mimetype": "text/x-python",
   "name": "python",
   "nbconvert_exporter": "python",
   "pygments_lexer": "ipython3",
   "version": "3.7.0"
  }
 },
 "nbformat": 4,
 "nbformat_minor": 2
}
