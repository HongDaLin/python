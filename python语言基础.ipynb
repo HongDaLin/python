{
 "cells": [
  {
   "cell_type": "markdown",
   "metadata": {},
   "source": [
    "# 温度转换实例 \n",
    "## 问题分析\n",
    "根据华氏和摄氏温度的定义，利用转换公式如下：\n",
    "    C = (F-32)/1.8\n",
    "    F = 1.8*C +32\n"
   ]
  },
  {
   "cell_type": "code",
   "execution_count": 7,
   "metadata": {},
   "outputs": [
    {
     "name": "stdout",
     "output_type": "stream",
     "text": [
      "请输入带有符号的数值:28c\n",
      "82.40F\n"
     ]
    }
   ],
   "source": [
    "#Tempconvert.py\n",
    "TempStr = input(\"请输入带有符号的数值:\")\n",
    "if TempStr[-1] in ['F','f']:\n",
    "    C= (eval(TempStr[0:-1])-32)/1.8#eval:评估函数，将字符串最外边的引号去掉\n",
    "    print(\"{:.2f}C\".format(C))    #[0:-1]：切片使用，不包含右边的值，即-1.\n",
    "elif TempStr[-1] in ['C','c']:    #字符串有正向递增排序和反向递减排序，0表示正向递增的第一个值\n",
    "    F= 1.8*eval(TempStr[0:-1])+32# #-1表示方向递减的第一个值，也是正向递增的第一个值\n",
    "    print(\"{:.2f}F\".format(F))\n",
    "else:\n",
    "    print(\"输入错误\")"
   ]
  }
 ],
 "metadata": {
  "kernelspec": {
   "display_name": "Python 3",
   "language": "python",
   "name": "python3"
  },
  "language_info": {
   "codemirror_mode": {
    "name": "ipython",
    "version": 3
   },
   "file_extension": ".py",
   "mimetype": "text/x-python",
   "name": "python",
   "nbconvert_exporter": "python",
   "pygments_lexer": "ipython3",
   "version": "3.7.0"
  }
 },
 "nbformat": 4,
 "nbformat_minor": 2
}
